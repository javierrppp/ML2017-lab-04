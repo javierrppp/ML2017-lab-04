{
 "cells": [
  {
   "cell_type": "code",
   "execution_count": 1,
   "metadata": {
    "collapsed": true
   },
   "outputs": [],
   "source": [
    "import os  \n",
    "import csv  \n",
    "import heapq  \n",
    "from operator import itemgetter  \n",
    "from datetime import datetime  \n",
    "from collections import defaultdict  \n",
    "  \n",
    "def load_reviews(path, **kwargs):  \n",
    "    ''''' \n",
    "    加载电影数据文件 \n",
    "    '''  \n",
    "  \n",
    "    options = {  \n",
    "        'fieldnames': ('userid', 'movieid', 'rating', 'timestamp'),  \n",
    "        'delimiter' : '\\t'  \n",
    "    }  \n",
    "  \n",
    "    options.update(kwargs)  \n",
    "    parse_date = lambda r, k: datetime.fromtimestamp(float(r[k]))  \n",
    "    parse_int = lambda r, k: int(r[k])  \n",
    "  \n",
    "    with open(path, 'rb') as reviews:  \n",
    "        reader = csv.DictReader(reviews, **options)  \n",
    "        for row in reader:  \n",
    "            row['movieid'] = parse_int(row, 'movieid')  \n",
    "            row['userid'] = parse_int(row,  'userid')  \n",
    "            row['rating'] = parse_int(row, 'rating')  \n",
    "            row['timestamp'] = parse_date(row, 'timestamp')  \n",
    "            yield row  "
   ]
  },
  {
   "cell_type": "code",
   "execution_count": 2,
   "metadata": {
    "collapsed": true
   },
   "outputs": [],
   "source": [
    "    def relative_path(path):  \n",
    "        ''''' \n",
    "        辅助数据导入 \n",
    "        '''  \n",
    "        dirname = os.path.dirname(os.path.realpath('__file__'))  \n",
    "        path = os.path.join(dirname, path)  \n",
    "        return  os.path.normpath(path)  "
   ]
  },
  {
   "cell_type": "code",
   "execution_count": 3,
   "metadata": {
    "collapsed": true
   },
   "outputs": [],
   "source": [
    "    def load_movies(path, **kwargs):  \n",
    "        ''''' \n",
    "        读取电影信息 \n",
    "        '''  \n",
    "        options = {  \n",
    "            'fieldnames': ('movieid', 'title', 'release', 'video', 'url'),  \n",
    "            'delimiter' : '|',  \n",
    "            'restkey'   : 'genre'  \n",
    "        }  \n",
    "        options.update(**kwargs)  \n",
    "      \n",
    "        parse_int = lambda r,k: int(r[k])  \n",
    "        parse_date = lambda r,k: datetime.strptime(r[k], '%d-%b-%Y') if r[k] else None  \n",
    "      \n",
    "        with open(path, 'rb') as movies:  \n",
    "            reader = csv.DictReader(movies, **options)  \n",
    "            for row in reader:  \n",
    "                row['movieid'] = parse_int(row, 'movieid')  \n",
    "                #print row['movieid']  \n",
    "                row['release'] = parse_date(row, 'release')  \n",
    "                #print row['release']  \n",
    "                #print row['video']  \n",
    "                yield row  "
   ]
  },
  {
   "cell_type": "code",
   "execution_count": 4,
   "metadata": {
    "collapsed": true
   },
   "outputs": [],
   "source": [
    "    class MovieLens(object):  \n",
    "      \n",
    "        def __init__(self, udata, uitem):  \n",
    "            self.udata = udata  \n",
    "            self.uitem = uitem  \n",
    "            self.movies = {}  \n",
    "            self.reviews = defaultdict(dict)  \n",
    "            self.load_dataset()  \n",
    "      \n",
    "        def load_dataset(self):  \n",
    "            #加载数据到内存中，按ID为索引  \n",
    "            for movie in load_movies(self.uitem):  \n",
    "                self.movies[movie['movieid']] = movie  \n",
    "      \n",
    "      \n",
    "            for review in load_reviews(self.udata):  \n",
    "                self.reviews[review['userid']][review['movieid']] = review  \n",
    "                #print self.reviews[review['userid']][review['movieid']]  \n",
    "\n"
   ]
  },
  {
   "cell_type": "code",
   "execution_count": 5,
   "metadata": {},
   "outputs": [
    {
     "ename": "FileNotFoundError",
     "evalue": "[Errno 2] No such file or directory: '/home/javier/文档/ML3/ML2017-lab-04/data/ml-100k/u.item'",
     "output_type": "error",
     "traceback": [
      "\u001b[0;31m---------------------------------------------------------------------------\u001b[0m",
      "\u001b[0;31mFileNotFoundError\u001b[0m                         Traceback (most recent call last)",
      "\u001b[0;32m<ipython-input-5-b155497013c1>\u001b[0m in \u001b[0;36m<module>\u001b[0;34m()\u001b[0m\n\u001b[1;32m      2\u001b[0m     \u001b[0mdata\u001b[0m \u001b[0;34m=\u001b[0m \u001b[0mrelative_path\u001b[0m\u001b[0;34m(\u001b[0m\u001b[0;34m'data/ml-100k/u.data'\u001b[0m\u001b[0;34m)\u001b[0m\u001b[0;34m\u001b[0m\u001b[0m\n\u001b[1;32m      3\u001b[0m     \u001b[0mitem\u001b[0m \u001b[0;34m=\u001b[0m \u001b[0mrelative_path\u001b[0m\u001b[0;34m(\u001b[0m\u001b[0;34m'data/ml-100k/u.item'\u001b[0m\u001b[0;34m)\u001b[0m\u001b[0;34m\u001b[0m\u001b[0m\n\u001b[0;32m----> 4\u001b[0;31m     \u001b[0mmodel\u001b[0m \u001b[0;34m=\u001b[0m \u001b[0mMovieLens\u001b[0m\u001b[0;34m(\u001b[0m\u001b[0mdata\u001b[0m\u001b[0;34m,\u001b[0m \u001b[0mitem\u001b[0m\u001b[0;34m)\u001b[0m\u001b[0;34m\u001b[0m\u001b[0m\n\u001b[0m",
      "\u001b[0;32m<ipython-input-4-fc44d82fc371>\u001b[0m in \u001b[0;36m__init__\u001b[0;34m(self, udata, uitem)\u001b[0m\n\u001b[1;32m      6\u001b[0m         \u001b[0mself\u001b[0m\u001b[0;34m.\u001b[0m\u001b[0mmovies\u001b[0m \u001b[0;34m=\u001b[0m \u001b[0;34m{\u001b[0m\u001b[0;34m}\u001b[0m\u001b[0;34m\u001b[0m\u001b[0m\n\u001b[1;32m      7\u001b[0m         \u001b[0mself\u001b[0m\u001b[0;34m.\u001b[0m\u001b[0mreviews\u001b[0m \u001b[0;34m=\u001b[0m \u001b[0mdefaultdict\u001b[0m\u001b[0;34m(\u001b[0m\u001b[0mdict\u001b[0m\u001b[0;34m)\u001b[0m\u001b[0;34m\u001b[0m\u001b[0m\n\u001b[0;32m----> 8\u001b[0;31m         \u001b[0mself\u001b[0m\u001b[0;34m.\u001b[0m\u001b[0mload_dataset\u001b[0m\u001b[0;34m(\u001b[0m\u001b[0;34m)\u001b[0m\u001b[0;34m\u001b[0m\u001b[0m\n\u001b[0m\u001b[1;32m      9\u001b[0m \u001b[0;34m\u001b[0m\u001b[0m\n\u001b[1;32m     10\u001b[0m     \u001b[0;32mdef\u001b[0m \u001b[0mload_dataset\u001b[0m\u001b[0;34m(\u001b[0m\u001b[0mself\u001b[0m\u001b[0;34m)\u001b[0m\u001b[0;34m:\u001b[0m\u001b[0;34m\u001b[0m\u001b[0m\n",
      "\u001b[0;32m<ipython-input-4-fc44d82fc371>\u001b[0m in \u001b[0;36mload_dataset\u001b[0;34m(self)\u001b[0m\n\u001b[1;32m     10\u001b[0m     \u001b[0;32mdef\u001b[0m \u001b[0mload_dataset\u001b[0m\u001b[0;34m(\u001b[0m\u001b[0mself\u001b[0m\u001b[0;34m)\u001b[0m\u001b[0;34m:\u001b[0m\u001b[0;34m\u001b[0m\u001b[0m\n\u001b[1;32m     11\u001b[0m         \u001b[0;31m#加载数据到内存中，按ID为索引\u001b[0m\u001b[0;34m\u001b[0m\u001b[0;34m\u001b[0m\u001b[0m\n\u001b[0;32m---> 12\u001b[0;31m         \u001b[0;32mfor\u001b[0m \u001b[0mmovie\u001b[0m \u001b[0;32min\u001b[0m \u001b[0mload_movies\u001b[0m\u001b[0;34m(\u001b[0m\u001b[0mself\u001b[0m\u001b[0;34m.\u001b[0m\u001b[0muitem\u001b[0m\u001b[0;34m)\u001b[0m\u001b[0;34m:\u001b[0m\u001b[0;34m\u001b[0m\u001b[0m\n\u001b[0m\u001b[1;32m     13\u001b[0m             \u001b[0mself\u001b[0m\u001b[0;34m.\u001b[0m\u001b[0mmovies\u001b[0m\u001b[0;34m[\u001b[0m\u001b[0mmovie\u001b[0m\u001b[0;34m[\u001b[0m\u001b[0;34m'movieid'\u001b[0m\u001b[0;34m]\u001b[0m\u001b[0;34m]\u001b[0m \u001b[0;34m=\u001b[0m \u001b[0mmovie\u001b[0m\u001b[0;34m\u001b[0m\u001b[0m\n\u001b[1;32m     14\u001b[0m \u001b[0;34m\u001b[0m\u001b[0m\n",
      "\u001b[0;32m<ipython-input-3-08a8c6266fda>\u001b[0m in \u001b[0;36mload_movies\u001b[0;34m(path, **kwargs)\u001b[0m\n\u001b[1;32m     13\u001b[0m     \u001b[0mparse_date\u001b[0m \u001b[0;34m=\u001b[0m \u001b[0;32mlambda\u001b[0m \u001b[0mr\u001b[0m\u001b[0;34m,\u001b[0m\u001b[0mk\u001b[0m\u001b[0;34m:\u001b[0m \u001b[0mdatetime\u001b[0m\u001b[0;34m.\u001b[0m\u001b[0mstrptime\u001b[0m\u001b[0;34m(\u001b[0m\u001b[0mr\u001b[0m\u001b[0;34m[\u001b[0m\u001b[0mk\u001b[0m\u001b[0;34m]\u001b[0m\u001b[0;34m,\u001b[0m \u001b[0;34m'%d-%b-%Y'\u001b[0m\u001b[0;34m)\u001b[0m \u001b[0;32mif\u001b[0m \u001b[0mr\u001b[0m\u001b[0;34m[\u001b[0m\u001b[0mk\u001b[0m\u001b[0;34m]\u001b[0m \u001b[0;32melse\u001b[0m \u001b[0;32mNone\u001b[0m\u001b[0;34m\u001b[0m\u001b[0m\n\u001b[1;32m     14\u001b[0m \u001b[0;34m\u001b[0m\u001b[0m\n\u001b[0;32m---> 15\u001b[0;31m     \u001b[0;32mwith\u001b[0m \u001b[0mopen\u001b[0m\u001b[0;34m(\u001b[0m\u001b[0mpath\u001b[0m\u001b[0;34m,\u001b[0m \u001b[0;34m'rb'\u001b[0m\u001b[0;34m)\u001b[0m \u001b[0;32mas\u001b[0m \u001b[0mmovies\u001b[0m\u001b[0;34m:\u001b[0m\u001b[0;34m\u001b[0m\u001b[0m\n\u001b[0m\u001b[1;32m     16\u001b[0m         \u001b[0mreader\u001b[0m \u001b[0;34m=\u001b[0m \u001b[0mcsv\u001b[0m\u001b[0;34m.\u001b[0m\u001b[0mDictReader\u001b[0m\u001b[0;34m(\u001b[0m\u001b[0mmovies\u001b[0m\u001b[0;34m,\u001b[0m \u001b[0;34m**\u001b[0m\u001b[0moptions\u001b[0m\u001b[0;34m)\u001b[0m\u001b[0;34m\u001b[0m\u001b[0m\n\u001b[1;32m     17\u001b[0m         \u001b[0;32mfor\u001b[0m \u001b[0mrow\u001b[0m \u001b[0;32min\u001b[0m \u001b[0mreader\u001b[0m\u001b[0;34m:\u001b[0m\u001b[0;34m\u001b[0m\u001b[0m\n",
      "\u001b[0;31mFileNotFoundError\u001b[0m: [Errno 2] No such file or directory: '/home/javier/文档/ML3/ML2017-lab-04/data/ml-100k/u.item'"
     ]
    }
   ],
   "source": [
    "    if __name__ == '__main__':  \n",
    "        data = relative_path('data/ml-100k/u.data')  \n",
    "        item = relative_path('data/ml-100k/u.item')  \n",
    "        model = MovieLens(data, item)  "
   ]
  },
  {
   "cell_type": "code",
   "execution_count": null,
   "metadata": {
    "collapsed": true
   },
   "outputs": [],
   "source": []
  }
 ],
 "metadata": {
  "kernelspec": {
   "display_name": "Python 3",
   "language": "python",
   "name": "python3"
  },
  "language_info": {
   "codemirror_mode": {
    "name": "ipython",
    "version": 3
   },
   "file_extension": ".py",
   "mimetype": "text/x-python",
   "name": "python",
   "nbconvert_exporter": "python",
   "pygments_lexer": "ipython3",
   "version": "3.6.3"
  }
 },
 "nbformat": 4,
 "nbformat_minor": 2
}

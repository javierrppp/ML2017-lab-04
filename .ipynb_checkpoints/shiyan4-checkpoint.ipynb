{
 "cells": [
  {
   "cell_type": "code",
   "execution_count": 1,
   "metadata": {
    "collapsed": true
   },
   "outputs": [],
   "source": [
    "import os\n",
    "import csv\n",
    "import heapq\n",
    "import numpy as np\n",
    "from operator import itemgetter\n",
    "from datetime import datetime\n",
    "from collections import defaultdict\n"
   ]
  },
  {
   "cell_type": "code",
   "execution_count": 2,
   "metadata": {
    "collapsed": true
   },
   "outputs": [],
   "source": [
    "def relative_path(path):\n",
    "    '''\n",
    "    辅助数据导入\n",
    "    '''\n",
    "    dirname = os.path.dirname(os.path.realpath('__file__'))\n",
    "    path = os.path.join(dirname, path)\n",
    "    return  os.path.normpath(path)"
   ]
  },
  {
   "cell_type": "code",
   "execution_count": 3,
   "metadata": {
    "collapsed": true
   },
   "outputs": [],
   "source": [
    "def load_reviews(path, **kwargs):  \n",
    "    ''''' \n",
    "    加载电影数据文件 \n",
    "    '''  \n",
    "  \n",
    "    options = {  \n",
    "        'fieldnames': ('userid', 'movieid', 'rating', 'timestamp'),  \n",
    "        'delimiter' : '\\t'  \n",
    "    }  \n",
    "  \n",
    "    options.update(kwargs)  \n",
    "    parse_date = lambda r, k: datetime.fromtimestamp(float(r[k]))  \n",
    "    parse_int = lambda r, k: int(r[k])  \n",
    "    with open(path, \"rt\", encoding=\"utf-8\") as reviews:  \n",
    "            reader = csv.DictReader(reviews, **options)\n",
    "            for row in reader:\n",
    "                row['userid'] = parse_int(row,  'userid')\n",
    "                #print (row['userid'])\n",
    "                row['movieid'] = parse_int(row, 'movieid')\n",
    "                #print (row['movieid'])\n",
    "                row['rating'] = parse_int(row, 'rating') \n",
    "                #print (row['rating'])\n",
    "                row['timestamp'] = parse_date(row, 'timestamp')  \n",
    "            yield row  "
   ]
  },
  {
   "cell_type": "code",
   "execution_count": 4,
   "metadata": {
    "collapsed": true
   },
   "outputs": [],
   "source": [
    "def factor2(R,   P=None,Q=None,K=2, steps=5000, alpha=0.0002, beta=0.02):\n",
    "    \"\"\"\n",
    "           依靠给定的参数训练矩阵R.\n",
    "\n",
    "        :param R:  N x M的矩阵，即将要被训练的\n",
    "        :param P: 一个初始的N x K矩阵\n",
    "        :param Q: 一个初始的M x K矩阵\n",
    "        :param K: 潜在的特征\n",
    "        :param steps: 最大迭代次数\n",
    "        :param alpha: 梯度下降法的下降率\n",
    "        :param beta:  惩罚参数\n",
    "\n",
    "        :returns:  P 和 Q\n",
    "           \"\"\"\n",
    "  \n",
    "    if not P or not Q:\n",
    "        P, Q = initialize(R, K)\n",
    "    Q = Q.T\n",
    "\n",
    "    rows, cols = R.shape\n",
    "    for step in xrange(steps):\n",
    "\n",
    "        eR = np.dot(P, Q)   # 一次性内积即可\n",
    "\n",
    "        for i in xrange(rows):\n",
    "            for j in xrange(cols):\n",
    "                if R[i,j] > 0:\n",
    "                    eij = R[i,j] - eR[i,j]\n",
    "                    for k in xrange(K):\n",
    "                        P[i,k] = P[i,k] + alpha * (2 * eij * Q[k,j] - beta * P[i,k])\n",
    "                        Q[k,j] = Q[k,j] + alpha * (2 * eij * P[i,k] - beta * Q[k,j])\n",
    "\n",
    "        eR = np.dot(P, Q)   # Compute dot product only once\n",
    "        e  = 0\n",
    "\n",
    "        for i in xrange(rows):\n",
    "            for j in xrange(cols):\n",
    "                if R[i,j] > 0:\n",
    "                    e = e + pow((R[i,j] - eR[i,j]), 2)\n",
    "                    for k in xrange(K):\n",
    "                        e = e + (beta/2) * (pow(P[i,k], 2) + pow(Q[k,j], 2))\n",
    "        if e < 0.001:\n",
    "            break\n",
    "    print(P)\n",
    "    return P, Q.T"
   ]
  },
  {
   "cell_type": "code",
   "execution_count": 5,
   "metadata": {
    "collapsed": true
   },
   "outputs": [],
   "source": [
    "class Recommender(object):\n",
    "\n",
    "    @classmethod\n",
    "    def load(klass, pickle_path):\n",
    "        '''\n",
    "        接受磁盘上包含pickle序列化后的文件路径为参数，并用pickle模块载入文件。\n",
    "        由于pickle模块在序列化是会保存导出时对象的所有属性和方法，因此反序列\n",
    "        化出来的对象有可能已经和当前最新代码中的类不同。\n",
    "        '''\n",
    "        with open(pickle_path, 'rb') as pkl:\n",
    "            return pickle.load(pkl)\n",
    "\n",
    "    def __init__(self, udata):\n",
    "        self.udata = udata\n",
    "        self.users = None\n",
    "        self.movies = None\n",
    "        self.reviews = None\n",
    "\n",
    "\n",
    "        # 描述性工程\n",
    "        self.build_start  = None\n",
    "        self.build_finish = None\n",
    "        self.description  = None\n",
    "\n",
    "        self.model        = None\n",
    "        self.features     = 2\n",
    "        self.steps        = 5000\n",
    "        self.alpha        = 0.0002\n",
    "        self.beta         = 0.02\n",
    "\n",
    "        self.load_dataset()\n",
    "\n",
    "    def dump(self,pickle_path):\n",
    "        '''\n",
    "        序列化方法、属性和数据到硬盘，以便在未来导入\n",
    "        '''\n",
    "        with open(pickle_path, 'wb' ) as pkl:\n",
    "            pickle.dump(self,pkl)\n",
    "\n",
    "    def load_dataset(self):\n",
    "        '''\n",
    "        加载用户和电影的索引作为一个NxM的数组，N是用户的数量，M是电影的数量；标记这个顺序寻找矩阵的价值\n",
    "        '''\n",
    "\n",
    "        self.users = set([])\n",
    "        self.movies = set([])\n",
    "        for review in load_reviews(self.udata):\n",
    "            self.users.add(review['userid'])\n",
    "            self.movies.add(review['movieid'])\n",
    "\n",
    "        self.users = sorted(self.users)\n",
    "        self.movies = sorted(self.movies)\n",
    "\n",
    "        self.reviews = np.zeros(shape=(len(self.users), len(self.movies)))\n",
    "        for review in load_reviews(self.udata):\n",
    "            uid = self.users.index(review['userid'])\n",
    "            mid = self.movies.index(review['movieid'])\n",
    "            self.reviews[uid, mid] = review['rating']\n",
    "\n",
    "\n",
    "    def build(self, output=None):\n",
    "        \n",
    "        '''\n",
    "        训练模型\n",
    "        '''\n",
    "        options  = {\n",
    "            'K' :        self.features,\n",
    "            'steps' :    self.steps,\n",
    "            'alpha' :    self.alpha,\n",
    "            'beta'  :    self.beta\n",
    "        }\n",
    "      \n",
    "        self.build_start = time.time()\n",
    "        nnmf = factor2 \n",
    "        self.P, self.Q = nnmf(self.reviews, **options)\n",
    "        self.model = np.dot(self.P, self.Q.T)\n",
    "        self.build_finish = time.time()\n",
    "     \n",
    "        if output :\n",
    "            self.dump(output)\n",
    "        return self.model"
   ]
  },
  {
   "cell_type": "code",
   "execution_count": 6,
   "metadata": {
    "collapsed": true
   },
   "outputs": [],
   "source": [
    "#利用模型来访问预测的评分\n",
    "def predict_ranking(self, userx, moviex):\n",
    "        uidx = self.users.index(user)\n",
    "        midx = self.movies.index(movie)\n",
    "        if self.reviews[uidx, midx] > 0:\n",
    "            return None\n",
    "        return self.model[uidx, midx]"
   ]
  },
  {
   "cell_type": "code",
   "execution_count": 7,
   "metadata": {},
   "outputs": [
    {
     "ename": "TypeError",
     "evalue": "predict_ranking() missing 1 required positional argument: 'moviex'",
     "output_type": "error",
     "traceback": [
      "\u001b[0;31m---------------------------------------------------------------------------\u001b[0m",
      "\u001b[0;31mTypeError\u001b[0m                                 Traceback (most recent call last)",
      "\u001b[0;32m<ipython-input-7-00570b2a88e2>\u001b[0m in \u001b[0;36m<module>\u001b[0;34m()\u001b[0m\n\u001b[1;32m      2\u001b[0m     \u001b[0mdata\u001b[0m \u001b[0;34m=\u001b[0m \u001b[0mrelative_path\u001b[0m\u001b[0;34m(\u001b[0m\u001b[0;34m'data/ml-100k/u1.base'\u001b[0m\u001b[0;34m)\u001b[0m\u001b[0;34m\u001b[0m\u001b[0m\n\u001b[1;32m      3\u001b[0m     \u001b[0mRecommender\u001b[0m\u001b[0;34m(\u001b[0m\u001b[0mdata\u001b[0m\u001b[0;34m)\u001b[0m\u001b[0;34m\u001b[0m\u001b[0m\n\u001b[0;32m----> 4\u001b[0;31m     \u001b[0mprint\u001b[0m  \u001b[0;34m(\u001b[0m\u001b[0mpredict_ranking\u001b[0m\u001b[0;34m(\u001b[0m\u001b[0;36m1\u001b[0m\u001b[0;34m,\u001b[0m\u001b[0;36m6\u001b[0m\u001b[0;34m)\u001b[0m\u001b[0;34m)\u001b[0m\u001b[0;34m\u001b[0m\u001b[0m\n\u001b[0m",
      "\u001b[0;31mTypeError\u001b[0m: predict_ranking() missing 1 required positional argument: 'moviex'"
     ]
    }
   ],
   "source": [
    "if __name__ == '__main__':\n",
    "    data = relative_path('data/ml-100k/u1.base')\n",
    "    Recommender(data)\n",
    "    print  (predict_ranking(1,6))"
   ]
  },
  {
   "cell_type": "code",
   "execution_count": null,
   "metadata": {
    "collapsed": true
   },
   "outputs": [],
   "source": []
  },
  {
   "cell_type": "code",
   "execution_count": null,
   "metadata": {
    "collapsed": true
   },
   "outputs": [],
   "source": []
  },
  {
   "cell_type": "code",
   "execution_count": null,
   "metadata": {
    "collapsed": true
   },
   "outputs": [],
   "source": []
  },
  {
   "cell_type": "code",
   "execution_count": null,
   "metadata": {
    "collapsed": true
   },
   "outputs": [],
   "source": []
  }
 ],
 "metadata": {
  "kernelspec": {
   "display_name": "Python 3",
   "language": "python",
   "name": "python3"
  },
  "language_info": {
   "codemirror_mode": {
    "name": "ipython",
    "version": 3
   },
   "file_extension": ".py",
   "mimetype": "text/x-python",
   "name": "python",
   "nbconvert_exporter": "python",
   "pygments_lexer": "ipython3",
   "version": "3.6.3"
  }
 },
 "nbformat": 4,
 "nbformat_minor": 2
}
